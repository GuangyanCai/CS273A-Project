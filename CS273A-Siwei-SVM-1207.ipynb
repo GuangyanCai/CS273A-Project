{
 "cells": [
  {
   "cell_type": "code",
   "execution_count": 3,
   "metadata": {
    "scrolled": true
   },
   "outputs": [],
   "source": [
    "###########################################\n",
    "# setting1  undersampled all              #\n",
    "#                                         #\n",
    "# setting 2 undersampled training         #\n",
    "###########################################\n",
    "from sklearn import svm\n",
    "from sklearn.metrics import classification_report\n",
    "from sklearn.metrics import roc_auc_score\n",
    "import pandas as pd\n",
    "import numpy as np\n",
    "import statsmodels.api as sm\n",
    "from numpy import mean\n",
    "from numpy import std\n",
    "from numpy.random import randn\n",
    "from numpy.random import seed\n",
    "from numpy import cov\n",
    "from scipy import stats\n",
    "import statsmodels.formula.api as smf\n",
    "# Import train_test_split function\n",
    "from sklearn.model_selection import train_test_split\n",
    "#Import scikit-learn metrics module for accuracy calculation\n",
    "from sklearn import metrics\n",
    "from sklearn.metrics import roc_curve\n",
    "# Split dataset into training set and test set\n",
    "import sklearn\n",
    "from matplotlib import pyplot as plt\n",
    "from sklearn.metrics import confusion_matrix\n",
    "import seaborn as sns"
   ]
  },
  {
   "cell_type": "code",
   "execution_count": null,
   "metadata": {},
   "outputs": [],
   "source": []
  },
  {
   "cell_type": "markdown",
   "metadata": {},
   "source": [
    "# 1. Setting 1: No resample, just normalize the data"
   ]
  },
  {
   "cell_type": "code",
   "execution_count": 2,
   "metadata": {},
   "outputs": [],
   "source": [
    "##############################################\n",
    "#   setting1 undersampled over all data     #\n",
    "#############################################\n",
    "x_train_setting1=np.loadtxt(\"preprocessed/x_train.csv\", delimiter=\",\")\n",
    "y_train_setting1=np.loadtxt(\"preprocessed/y_train.csv\", delimiter=\",\")\n",
    "x_valid_setting1=np.loadtxt(\"preprocessed/x_valid.csv\", delimiter=\",\")\n",
    "y_valid_setting1=np.loadtxt(\"preprocessed/y_valid.csv\", delimiter=\",\")\n",
    "x_test_setting1=np.loadtxt(\"preprocessed/x_test.csv\", delimiter=\",\")\n",
    "y_test_setting1=np.loadtxt(\"preprocessed/y_test.csv\", delimiter=\",\")"
   ]
  },
  {
   "cell_type": "code",
   "execution_count": 3,
   "metadata": {},
   "outputs": [],
   "source": [
    "#############################check training, validation, and testing data size"
   ]
  },
  {
   "cell_type": "code",
   "execution_count": 4,
   "metadata": {
    "scrolled": false
   },
   "outputs": [
    {
     "name": "stdout",
     "output_type": "stream",
     "text": [
      "feature size: 44 | train size: 76538 | validation size: 9567 | test size: 9568\n"
     ]
    }
   ],
   "source": [
    "size_feature = x_train_setting1.shape[1]\n",
    "size_train = x_train_setting1.shape[0]\n",
    "size_valid = x_valid_setting1.shape[0]\n",
    "size_test = x_test_setting1.shape[0]\n",
    "\n",
    "print(f'feature size: {size_feature} | train size: {size_train} | validation size: {size_valid} | test size: {size_test}')\n"
   ]
  },
  {
   "cell_type": "markdown",
   "metadata": {},
   "source": [
    "# 1.1 SVM Model parameter selection"
   ]
  },
  {
   "cell_type": "code",
   "execution_count": 5,
   "metadata": {},
   "outputs": [],
   "source": [
    "#############################support vector machine"
   ]
  },
  {
   "cell_type": "code",
   "execution_count": 6,
   "metadata": {},
   "outputs": [],
   "source": [
    "def train_validation(x_train, y_train,x_valid,y_valid, config):\n",
    "    mean_loss_valid = 0.0\n",
    "\n",
    "    print(\"train_validation function starts here.\") \n",
    "    #Train the model using training data\n",
    "    clf = svm.SVC(C=config['reg_para'],kernel=config['kernel'])\n",
    "    clf.fit(x_train, y_train)\n",
    "    \n",
    "    #calculating the training accurary score\n",
    "    yhat_train = clf.predict(x_train)\n",
    "    acurracy_train=metrics.accuracy_score(y_train, yhat_train)\n",
    "    #calculating the validation accurary score\n",
    "    yhat_valid = clf.predict(x_valid)\n",
    "    acurracy_valid=metrics.accuracy_score(y_valid, yhat_valid)\n",
    "    \n",
    "    \n",
    "    print(f'\\r[Info] config: {config} | training accuracy: {acurracy_train} | validation accuracy: {acurracy_valid}', end='')\n",
    "    print('\\n[Info] Done')\n",
    "    return acurracy_train,acurracy_valid"
   ]
  },
  {
   "cell_type": "code",
   "execution_count": 7,
   "metadata": {},
   "outputs": [],
   "source": [
    "config = dict(\n",
    "    kernel = 'linear',\n",
    "    reg_para = 1,\n",
    "\n",
    ")"
   ]
  },
  {
   "cell_type": "code",
   "execution_count": null,
   "metadata": {
    "scrolled": true
   },
   "outputs": [
    {
     "name": "stdout",
     "output_type": "stream",
     "text": [
      "train_validation function starts here.\n"
     ]
    }
   ],
   "source": [
    "##There is no need to run this cell. Just for debugging purpose.\n",
    "\n",
    "#acurracy_train,acurracy_valid=train_validation(x_train_setting1, y_train_setting1,x_valid_setting1,y_valid_setting1, config)"
   ]
  },
  {
   "cell_type": "markdown",
   "metadata": {},
   "source": [
    "### 1.1.1 Impact of Different kernel functions and regularization parameters under setting 1"
   ]
  },
  {
   "cell_type": "code",
   "execution_count": 18,
   "metadata": {},
   "outputs": [
    {
     "name": "stdout",
     "output_type": "stream",
     "text": [
      "train_validation function starts here.\n",
      "[Info] config: {'kernel': 'linear', 'reg_para': 0.6} | training accuracy: 0.5885688364708551 | validation accuracy: 0.600453514739229\n",
      "[Info] Done\n",
      "train_validation function starts here.\n",
      "[Info] config: {'kernel': 'linear', 'reg_para': 0.8} | training accuracy: 0.5885688364708551 | validation accuracy: 0.600453514739229\n",
      "[Info] Done\n",
      "train_validation function starts here.\n",
      "[Info] config: {'kernel': 'linear', 'reg_para': 1.0} | training accuracy: 0.5886255386709004 | validation accuracy: 0.600453514739229\n",
      "[Info] Done\n",
      "train_validation function starts here.\n",
      "[Info] config: {'kernel': 'linear', 'reg_para': 1.2} | training accuracy: 0.5887389430709912 | validation accuracy: 0.600453514739229\n",
      "[Info] Done\n",
      "train_validation function starts here.\n",
      "[Info] config: {'kernel': 'linear', 'reg_para': 1.4} | training accuracy: 0.5886255386709004 | validation accuracy: 0.600453514739229\n",
      "[Info] Done\n",
      "train_validation function starts here.\n",
      "[Info] config: {'kernel': 'poly', 'reg_para': 0.6} | training accuracy: 0.6678952143343162 | validation accuracy: 0.5981859410430839\n",
      "[Info] Done\n",
      "train_validation function starts here.\n",
      "[Info] config: {'kernel': 'poly', 'reg_para': 0.8} | training accuracy: 0.6758335223406668 | validation accuracy: 0.6040816326530613\n",
      "[Info] Done\n",
      "train_validation function starts here.\n",
      "[Info] config: {'kernel': 'poly', 'reg_para': 1.0} | training accuracy: 0.6820140621456112 | validation accuracy: 0.6022675736961451\n",
      "[Info] Done\n",
      "train_validation function starts here.\n",
      "[Info] config: {'kernel': 'poly', 'reg_para': 1.2} | training accuracy: 0.6883080063506464 | validation accuracy: 0.6027210884353742\n",
      "[Info] Done\n",
      "train_validation function starts here.\n",
      "[Info] config: {'kernel': 'poly', 'reg_para': 1.4} | training accuracy: 0.6925039691540031 | validation accuracy: 0.6068027210884354\n",
      "[Info] Done\n",
      "train_validation function starts here.\n",
      "[Info] config: {'kernel': 'rbf', 'reg_para': 0.6} | training accuracy: 0.6487298707189839 | validation accuracy: 0.6213151927437641\n",
      "[Info] Done\n",
      "train_validation function starts here.\n",
      "[Info] config: {'kernel': 'rbf', 'reg_para': 0.8} | training accuracy: 0.6593898843275119 | validation accuracy: 0.6195011337868481\n",
      "[Info] Done\n",
      "train_validation function starts here.\n",
      "[Info] config: {'kernel': 'rbf', 'reg_para': 1.0} | training accuracy: 0.6671580857337265 | validation accuracy: 0.6167800453514739\n",
      "[Info] Done\n",
      "train_validation function starts here.\n",
      "[Info] config: {'kernel': 'rbf', 'reg_para': 1.2} | training accuracy: 0.6736788387389431 | validation accuracy: 0.6154195011337869\n",
      "[Info] Done\n",
      "train_validation function starts here.\n",
      "[Info] config: {'kernel': 'rbf', 'reg_para': 1.4} | training accuracy: 0.6788954411431164 | validation accuracy: 0.6149659863945578\n",
      "[Info] Done\n",
      "train_validation function starts here.\n",
      "[Info] config: {'kernel': 'sigmoid', 'reg_para': 0.6} | training accuracy: 0.5468360172374688 | validation accuracy: 0.5777777777777777\n",
      "[Info] Done\n",
      "train_validation function starts here.\n",
      "[Info] config: {'kernel': 'sigmoid', 'reg_para': 0.8} | training accuracy: 0.5400317532320255 | validation accuracy: 0.5723356009070295\n",
      "[Info] Done\n",
      "train_validation function starts here.\n",
      "[Info] config: {'kernel': 'sigmoid', 'reg_para': 1.0} | training accuracy: 0.5372533454298026 | validation accuracy: 0.5696145124716553\n",
      "[Info] Done\n",
      "train_validation function starts here.\n",
      "[Info] config: {'kernel': 'sigmoid', 'reg_para': 1.2} | training accuracy: 0.5343048310274439 | validation accuracy: 0.563718820861678\n",
      "[Info] Done\n",
      "train_validation function starts here.\n",
      "[Info] config: {'kernel': 'sigmoid', 'reg_para': 1.4} | training accuracy: 0.5326604672261284 | validation accuracy: 0.5600907029478458\n",
      "[Info] Done\n"
     ]
    }
   ],
   "source": [
    "##Run the model using different kernels and reg_para's setting\n",
    "#use mean_loss_valid as metric to design which setting is best\n",
    "#\n",
    "kernel_list=['linear', 'poly', 'rbf', 'sigmoid']\n",
    "reg_para_list=[0.6,0.8,1.0,1.2,1.4]\n",
    "acurracy_train_matrix=np.zeros((len(kernel_list),len(reg_para_list)))\n",
    "acurracy_valid_matrix=np.zeros((len(kernel_list),len(reg_para_list)))\n",
    "\n",
    "for i,k in enumerate(kernel_list):\n",
    "    for j,a in enumerate(reg_para_list):\n",
    "        #print(config)\n",
    "        config['kernel']=k\n",
    "        config['reg_para']=a\n",
    "        acurracy_train_matrix[i][j],acurracy_valid_matrix[i][j]=train_validation(x_train_setting1, y_train_setting1,x_valid_setting1,y_valid_setting1, config)\n",
    "        "
   ]
  },
  {
   "cell_type": "markdown",
   "metadata": {},
   "source": [
    "### 1.1.2 Plot the heatmap of validation accuracy"
   ]
  },
  {
   "cell_type": "code",
   "execution_count": 19,
   "metadata": {
    "scrolled": true
   },
   "outputs": [
    {
     "data": {
      "image/png": "[encoded data removed]",
      "text/plain": [
       "<Figure size 432x288 with 2 Axes>"
      ]
     },
     "metadata": {
      "needs_background": "light"
     },
     "output_type": "display_data"
    }
   ],
   "source": [
    "figure = plt.figure()\n",
    "axes = figure.add_subplot(111)\n",
    " \n",
    "# using the matshow() function\n",
    "caxes = axes.matshow(acurracy_valid_matrix, interpolation ='nearest')\n",
    "figure.colorbar(caxes)\n",
    " \n",
    "axes.set_xticklabels(['']+reg_para_list)\n",
    "axes.set_yticklabels(['']+kernel_list)\n",
    "axes.set_xlabel(\"reg_para_list\")\n",
    "axes.set_ylabel(\"kernel_list\")\n",
    " \n",
    "plt.show()"
   ]
  },
  {
   "cell_type": "markdown",
   "metadata": {},
   "source": [
    "From the heatmap above, we know valiadation accuracy is **highest (0.621)** under the **'rbf' kernel** and the regularization parameter is **0.6**."
   ]
  },
  {
   "cell_type": "markdown",
   "metadata": {},
   "source": [
    "## 1.2 Train the model using the best set of parameters"
   ]
  },
  {
   "cell_type": "code",
   "execution_count": 5,
   "metadata": {},
   "outputs": [],
   "source": [
    "def test_validation(x_train, y_train,x_test,y_test, config):\n",
    "    \n",
    "\n",
    "    print(\"test_validation function starts here.\") \n",
    "    #Train the model using training data\n",
    "    clf = svm.SVC(C=config['reg_para'],kernel=config['kernel'])\n",
    "    clf.fit(x_train, y_train)\n",
    "    \n",
    "    #calculating the training accurary score\n",
    "    yhat_train = clf.predict(x_train)\n",
    "    acurracy_train=metrics.accuracy_score(y_train, yhat_train)\n",
    "    #calculating the validation accurary score\n",
    "    yhat_test = clf.predict(x_test)\n",
    "    acurracy_test=metrics.accuracy_score(y_test, yhat_test)\n",
    "    \n",
    "\n",
    "    \n",
    "    print(f'\\r[Info] config: {config} | training accuracy: {acurracy_train} | testing accuracy: {acurracy_test}', end='')\n",
    "    #Print out the classification report\n",
    "    print(\"\\n\",\"classification report:\",metrics.classification_report(y_test, yhat_test))\n",
    "    print(\"confusion matrix:\",confusion_matrix(y_test, yhat_test))\n",
    "    roc_auc=roc_auc_score(y_test,yhat_test,average=None)\n",
    "    print(\"ROC_AUC_score\",roc_auc)\n",
    "    print('\\n[Info] Done')\n",
    "\n",
    "    ####Plot the heatmap\n",
    "    plt.figure(figsize=(9,9))\n",
    "    sns.heatmap(confusion_matrix(y_test, yhat_test), annot=True, fmt=\".3f\", linewidths=.5, square = True, cmap = 'Reds_r');\n",
    "    plt.ylabel('Actual label');\n",
    "    plt.xlabel('Predicted label');\n",
    "    all_sample_title = 'Accuracy Score: {0}'.format(acurracy_test)\n",
    "    plt.title(all_sample_title, size = 15)\n",
    "    \n",
    "    \n",
    "    return yhat_test,acurracy_test,roc_auc"
   ]
  },
  {
   "cell_type": "code",
   "execution_count": 6,
   "metadata": {},
   "outputs": [],
   "source": [
    "#Best configuration based on the result above\n",
    "best_config = dict(\n",
    "    kernel = 'rbf',\n",
    "    reg_para = 0.6,\n",
    "\n",
    ")"
   ]
  },
  {
   "cell_type": "code",
   "execution_count": null,
   "metadata": {},
   "outputs": [
    {
     "name": "stdout",
     "output_type": "stream",
     "text": [
      "test_validation function starts here.\n"
     ]
    }
   ],
   "source": [
    "#Train the support vector machine model using the best_config\n",
    "#yhat_test,acurracy_test,roc_auc=test_validation(x_train_setting1, y_train_setting1,x_test_setting1,y_test_setting1, best_config)\n"
   ]
  },
  {
   "cell_type": "code",
   "execution_count": null,
   "metadata": {},
   "outputs": [],
   "source": []
  },
  {
   "cell_type": "code",
   "execution_count": 16,
   "metadata": {},
   "outputs": [
    {
     "name": "stdout",
     "output_type": "stream",
     "text": [
      "\n",
      "[Info] number of iter: 0 | testing accuracy: 0.0 | roc_auc score: 0.0\n",
      "[Info] number of iter: 1 | testing accuracy: 0.5 | roc_auc score: 0.5\n",
      "[Info] number of iter: 2 | testing accuracy: 2.0 | roc_auc score: 2.0\n",
      "[Info] number of iter: 3 | testing accuracy: 4.5 | roc_auc score: 4.5\n",
      "[Info] number of iter: 4 | testing accuracy: 8.0 | roc_auc score: 8.0"
     ]
    }
   ],
   "source": [
    "#####################################################################################################\n",
    "#Run 5 times and calculate the avg testing acurracy (acurracy_test) and avg roc_auc score (roc_auc)\n",
    "####################################################################################################\n",
    "acurracy_test_list=np.zeros(5)\n",
    "roc_auc_list=np.zeros(5)\n",
    "for i in range(0,5):\n",
    "    yhat_test,acurracy_test_list[i],roc_auc_list[i]=test_validation(x_train_setting1, y_train_setting1,x_test_setting1,y_test_setting1, best_config)\n",
    "    print(f'\\n[Info] number of iter: {i} | testing accuracy: {acurracy_test_list[i]} | roc_auc score: {roc_auc_list[i]}', end='')\n",
    "\n",
    "\n",
    "\n",
    "print(\"mean of testing accuracy\",np.mean(acurracy_test_list),\"mean of roc_auc score\",np.mean(roc_auc_list))"
   ]
  },
  {
   "cell_type": "code",
   "execution_count": null,
   "metadata": {},
   "outputs": [],
   "source": []
  },
  {
   "cell_type": "code",
   "execution_count": null,
   "metadata": {},
   "outputs": [],
   "source": []
  },
  {
   "cell_type": "code",
   "execution_count": 37,
   "metadata": {},
   "outputs": [
    {
     "name": "stderr",
     "output_type": "stream",
     "text": [
      "<ipython-input-37-ae9a3815c563>:15: MatplotlibDeprecationWarning: Adding an axes using the same arguments as a previous axes currently reuses the earlier instance.  In a future version, a new instance will always be created and returned.  Meanwhile, this warning can be suppressed, and the future behavior ensured, by passing a unique label to each axes instance.\n",
      "  plt.axes().set_aspect('equal')\n"
     ]
    },
    {
     "data": {
      "text/plain": [
       "Text(0, 0.5, 'True Positive Rate')"
      ]
     },
     "execution_count": 37,
     "metadata": {},
     "output_type": "execute_result"
    },
    {
     "data": {
      "image/png": "[encoded data removed]",
      "text/plain": [
       "<Figure size 576x576 with 1 Axes>"
      ]
     },
     "metadata": {
      "needs_background": "light"
     },
     "output_type": "display_data"
    }
   ],
   "source": [
    "##############\n",
    "# ROC Curve #\n",
    "#############\n",
    "fpr, tpr, thresholds=roc_curve(y_test_setting1, yhat_test)\n",
    "plt.figure(figsize=(8,8))\n",
    "plt.plot(fpr, tpr, label='SVM Classifier')\n",
    "plt.plot([0, 1], [0, 1], linestyle='--', lw=2, color='r',\n",
    "         label='random', alpha=.8)\n",
    "plt.xlim([0,1])\n",
    "plt.ylim([0,1])\n",
    "plt.xticks(np.arange(0,1.1,0.1))\n",
    "plt.yticks(np.arange(0,1.1,0.1))\n",
    "plt.grid()\n",
    "plt.legend()\n",
    "plt.axes().set_aspect('equal')\n",
    "plt.xlabel('False Positive Rate')\n",
    "plt.ylabel('True Positive Rate')"
   ]
  },
  {
   "cell_type": "markdown",
   "metadata": {
    "scrolled": true
   },
   "source": [
    "# 2. Setting 2: undersampled over training data"
   ]
  },
  {
   "cell_type": "code",
   "execution_count": 39,
   "metadata": {},
   "outputs": [],
   "source": [
    "###########################################################\n",
    "#    undersampled setting 2, undersample training only    #\n",
    "###########################################################\n",
    "x_train_undersampled = np.loadtxt(\"preprocessed/x_train_resampled.csv\", delimiter=',')\n",
    "y_train_undersampled = np.loadtxt(\"preprocessed/y_train_resampled.csv\", delimiter=',')\n",
    "x_valid=np.loadtxt(\"preprocessed/x_valid.csv\",delimiter=\",\")\n",
    "y_valid=np.loadtxt(\"preprocessed/y_valid.csv\",delimiter=\",\")\n",
    "x_test=np.loadtxt(\"preprocessed/x_test.csv\",delimiter=\",\")\n",
    "y_test=np.loadtxt(\"preprocessed/y_test.csv\",delimiter=\",\")"
   ]
  },
  {
   "cell_type": "code",
   "execution_count": 40,
   "metadata": {
    "scrolled": true
   },
   "outputs": [
    {
     "name": "stdout",
     "output_type": "stream",
     "text": [
      "feature size: 44 | train size: 17624 | validation size: 9567 | test size: 9568\n"
     ]
    }
   ],
   "source": [
    "size_feature = x_train_undersampled.shape[1]\n",
    "size_train = x_train_undersampled.shape[0]\n",
    "size_valid = x_valid.shape[0]\n",
    "size_test = x_test.shape[0]\n",
    "\n",
    "print(f'feature size: {size_feature} | train size: {size_train} | validation size: {size_valid} | test size: {size_test}')\n"
   ]
  },
  {
   "cell_type": "markdown",
   "metadata": {},
   "source": [
    "### 2.1 Parameter selection"
   ]
  },
  {
   "cell_type": "code",
   "execution_count": 43,
   "metadata": {
    "scrolled": false
   },
   "outputs": [
    {
     "name": "stdout",
     "output_type": "stream",
     "text": [
      "train_validation function starts here.\n",
      "[Info] config: {'kernel': 'linear', 'reg_para': 0.6} | training accuracy: 0.5899909214707217 | validation accuracy: 0.11257447475697711\n",
      "[Info] Done\n",
      "train_validation function starts here.\n",
      "[Info] config: {'kernel': 'linear', 'reg_para': 0.8} | training accuracy: 0.5899909214707217 | validation accuracy: 0.11257447475697711\n",
      "[Info] Done\n",
      "train_validation function starts here.\n",
      "[Info] config: {'kernel': 'linear', 'reg_para': 1.0} | training accuracy: 0.5901044030867 | validation accuracy: 0.11257447475697711\n",
      "[Info] Done\n",
      "train_validation function starts here.\n",
      "[Info] config: {'kernel': 'linear', 'reg_para': 1.2} | training accuracy: 0.5900476622787109 | validation accuracy: 0.11257447475697711\n",
      "[Info] Done\n",
      "train_validation function starts here.\n",
      "[Info] config: {'kernel': 'linear', 'reg_para': 1.4} | training accuracy: 0.5899341806627326 | validation accuracy: 0.11257447475697711\n",
      "[Info] Done\n",
      "train_validation function starts here.\n",
      "[Info] config: {'kernel': 'poly', 'reg_para': 0.6} | training accuracy: 0.6613141171130277 | validation accuracy: 0.21804118323403365\n",
      "[Info] Done\n",
      "train_validation function starts here.\n",
      "[Info] config: {'kernel': 'poly', 'reg_para': 0.8} | training accuracy: 0.668463458919655 | validation accuracy: 0.273126371903418\n",
      "[Info] Done\n",
      "train_validation function starts here.\n",
      "[Info] config: {'kernel': 'poly', 'reg_para': 1.0} | training accuracy: 0.6758965047662279 | validation accuracy: 0.3195359046723111\n",
      "[Info] Done\n",
      "train_validation function starts here.\n",
      "[Info] config: {'kernel': 'poly', 'reg_para': 1.2} | training accuracy: 0.6816840671811166 | validation accuracy: 0.3669906971882513\n",
      "[Info] Done\n",
      "train_validation function starts here.\n",
      "[Info] config: {'kernel': 'poly', 'reg_para': 1.4} | training accuracy: 0.6858261461643214 | validation accuracy: 0.39280861294031566\n",
      "[Info] Done\n",
      "train_validation function starts here.\n",
      "[Info] config: {'kernel': 'rbf', 'reg_para': 0.6} | training accuracy: 0.6522355878347708 | validation accuracy: 0.8876345771924323\n",
      "[Info] Done\n",
      "train_validation function starts here.\n",
      "[Info] config: {'kernel': 'rbf', 'reg_para': 0.8} | training accuracy: 0.660406264185202 | validation accuracy: 0.8876345771924323\n",
      "[Info] Done\n",
      "train_validation function starts here.\n",
      "[Info] config: {'kernel': 'rbf', 'reg_para': 1.0} | training accuracy: 0.6693713118474807 | validation accuracy: 0.8876345771924323\n",
      "[Info] Done\n",
      "train_validation function starts here.\n",
      "[Info] config: {'kernel': 'rbf', 'reg_para': 1.2} | training accuracy: 0.6750453926463913 | validation accuracy: 0.8876345771924323\n",
      "[Info] Done\n",
      "train_validation function starts here.\n",
      "[Info] config: {'kernel': 'rbf', 'reg_para': 1.4} | training accuracy: 0.6824216976849751 | validation accuracy: 0.8876345771924323\n",
      "[Info] Done\n",
      "train_validation function starts here.\n",
      "[Info] config: {'kernel': 'sigmoid', 'reg_para': 0.6} | training accuracy: 0.5513504312301407 | validation accuracy: 0.8196926936343681\n",
      "[Info] Done\n",
      "train_validation function starts here.\n",
      "[Info] config: {'kernel': 'sigmoid', 'reg_para': 0.8} | training accuracy: 0.5494779845665002 | validation accuracy: 0.816452388418522\n",
      "[Info] Done\n",
      "train_validation function starts here.\n",
      "[Info] config: {'kernel': 'sigmoid', 'reg_para': 1.0} | training accuracy: 0.5470381298229687 | validation accuracy: 0.819379115710254\n",
      "[Info] Done\n",
      "train_validation function starts here.\n",
      "[Info] config: {'kernel': 'sigmoid', 'reg_para': 1.2} | training accuracy: 0.5456763504312302 | validation accuracy: 0.8126894533291523\n",
      "[Info] Done\n",
      "train_validation function starts here.\n",
      "[Info] config: {'kernel': 'sigmoid', 'reg_para': 1.4} | training accuracy: 0.5444847934634589 | validation accuracy: 0.8104944078603533\n",
      "[Info] Done\n"
     ]
    }
   ],
   "source": [
    "##Run the model using different kernels and reg_para's setting\n",
    "#use mean_loss_valid as metric to design which setting is best\n",
    "#\n",
    "kernel_list=['linear', 'poly', 'rbf', 'sigmoid']\n",
    "reg_para_list=[0.6,0.8,1.0,1.2,1.4]\n",
    "acurracy_train_matrix_2=np.zeros((len(kernel_list),len(reg_para_list)))\n",
    "acurracy_valid_matrix_2=np.zeros((len(kernel_list),len(reg_para_list)))\n",
    "\n",
    "for i,k in enumerate(kernel_list):\n",
    "    for j,a in enumerate(reg_para_list):\n",
    "        #print(config)\n",
    "        config['kernel']=k\n",
    "        config['reg_para']=a\n",
    "        #print(config)\n",
    "        acurracy_train_matrix_2[i][j],acurracy_valid_matrix_2[i][j]=train_validation(x_train_undersampled, y_train_undersampled,x_valid,y_valid, config)\n",
    "        "
   ]
  },
  {
   "cell_type": "markdown",
   "metadata": {},
   "source": [
    "### Plot the heatmap of validation accuracy"
   ]
  },
  {
   "cell_type": "code",
   "execution_count": 45,
   "metadata": {},
   "outputs": [
    {
     "data": {
      "image/png": "[encoded data removed]",
      "text/plain": [
       "<Figure size 432x288 with 2 Axes>"
      ]
     },
     "metadata": {
      "needs_background": "light"
     },
     "output_type": "display_data"
    }
   ],
   "source": [
    "figure = plt.figure()\n",
    "axes = figure.add_subplot(111)\n",
    " \n",
    "# using the matshow() function\n",
    "caxes = axes.matshow(acurracy_valid_matrix_2, interpolation ='nearest')\n",
    "figure.colorbar(caxes)\n",
    " \n",
    "axes.set_xticklabels(['']+reg_para_list)\n",
    "axes.set_yticklabels(['']+kernel_list)\n",
    "axes.set_xlabel(\"reg_para_list\")\n",
    "axes.set_ylabel(\"kernel_list\")\n",
    " \n",
    "plt.show()"
   ]
  },
  {
   "cell_type": "markdown",
   "metadata": {},
   "source": [
    "From the heatmap above, we know valiadation accuracy is **highest (0.8876345771924323)** under the **'rbf' kernel** no matter what the regularization parameters are - different regularization parameters can lead to the same validation accuracy."
   ]
  },
  {
   "cell_type": "code",
   "execution_count": 46,
   "metadata": {},
   "outputs": [],
   "source": [
    "#Best configuration based on the result above\n",
    "#We just use reg_para =1.0\n",
    "best_config_2 = dict(\n",
    "    kernel = 'rbf',\n",
    "    reg_para = 1.0,\n",
    "\n",
    ")"
   ]
  },
  {
   "cell_type": "code",
   "execution_count": null,
   "metadata": {},
   "outputs": [],
   "source": [
    "acurracy_test_list=np.zeros(5)\n",
    "roc_auc_list=np.zeros(5)\n",
    "for i in range(0,5):\n",
    "    yhat_test_2,acurracy_test_list[i],roc_auc_list[i]=test_validation(x_train_undersampled, y_train_undersampled,x_test,y_test, best_config_2)\n",
    "    print(f'\\n[Info] number of iter: {i} | testing accuracy: {acurracy_test_list[i]} | roc_auc score: {roc_auc_list[i]}', end='')\n",
    "\n",
    "\n",
    "    \n",
    "\n",
    "print(\"mean of testing accuracy\",np.mean(acurracy_test_list),\"mean of roc_auc score\",np.mean(roc_auc_list))"
   ]
  },
  {
   "cell_type": "code",
   "execution_count": 47,
   "metadata": {
    "scrolled": false
   },
   "outputs": [
    {
     "name": "stdout",
     "output_type": "stream",
     "text": [
      "test_validation function starts here.\n",
      "[Info] config: {'kernel': 'rbf', 'reg_para': 1.0} | training accuracy: 0.6693713118474807 | validation accuracy: 0.6393185618729097classification report:               precision    recall  f1-score   support\n",
      "\n",
      "         0.0       0.92      0.65      0.76      8432\n",
      "         1.0       0.18      0.56      0.27      1136\n",
      "\n",
      "    accuracy                           0.64      9568\n",
      "   macro avg       0.55      0.61      0.52      9568\n",
      "weighted avg       0.83      0.64      0.70      9568\n",
      "\n",
      "confusion matrix: [[5480 2952]\n",
      " [ 499  637]]\n",
      "ROC_AUC_score 0.6053222799796883\n",
      "\n",
      "[Info] Done\n"
     ]
    },
    {
     "data": {
      "image/png": "[encoded data removed]",
      "text/plain": [
       "<Figure size 648x648 with 2 Axes>"
      ]
     },
     "metadata": {
      "needs_background": "light"
     },
     "output_type": "display_data"
    }
   ],
   "source": [
    "#Train the support vector machine model using the best_config\n",
    "#yhat_train_2, yhat_test_2=test_validation(x_train_undersampled, y_train_undersampled,x_test,y_test, best_config_2)\n"
   ]
  },
  {
   "cell_type": "code",
   "execution_count": 48,
   "metadata": {},
   "outputs": [
    {
     "name": "stderr",
     "output_type": "stream",
     "text": [
      "<ipython-input-48-c5d10520d5d6>:15: MatplotlibDeprecationWarning: Adding an axes using the same arguments as a previous axes currently reuses the earlier instance.  In a future version, a new instance will always be created and returned.  Meanwhile, this warning can be suppressed, and the future behavior ensured, by passing a unique label to each axes instance.\n",
      "  plt.axes().set_aspect('equal')\n"
     ]
    },
    {
     "data": {
      "text/plain": [
       "Text(0, 0.5, 'True Positive Rate')"
      ]
     },
     "execution_count": 48,
     "metadata": {},
     "output_type": "execute_result"
    },
    {
     "data": {
      "image/png": "[encoded data removed]",
      "text/plain": [
       "<Figure size 576x576 with 1 Axes>"
      ]
     },
     "metadata": {
      "needs_background": "light"
     },
     "output_type": "display_data"
    }
   ],
   "source": [
    "##############\n",
    "# ROC Curve #\n",
    "#############\n",
    "fpr, tpr, thresholds=roc_curve(y_test, yhat_test_2)\n",
    "plt.figure(figsize=(8,8))\n",
    "plt.plot(fpr, tpr, label='SVM Classifier')\n",
    "plt.plot([0, 1], [0, 1], linestyle='--', lw=2, color='r',\n",
    "         label='random', alpha=.8)\n",
    "plt.xlim([0,1])\n",
    "plt.ylim([0,1])\n",
    "plt.xticks(np.arange(0,1.1,0.1))\n",
    "plt.yticks(np.arange(0,1.1,0.1))\n",
    "plt.grid()\n",
    "plt.legend()\n",
    "plt.axes().set_aspect('equal')\n",
    "plt.xlabel('False Positive Rate')\n",
    "plt.ylabel('True Positive Rate')"
   ]
  },
  {
   "cell_type": "code",
   "execution_count": null,
   "metadata": {},
   "outputs": [],
   "source": []
  }
 ],
 "metadata": {
  "kernelspec": {
   "display_name": "Python 3",
   "language": "python",
   "name": "python3"
  },
  "language_info": {
   "codemirror_mode": {
    "name": "ipython",
    "version": 3
   },
   "file_extension": ".py",
   "mimetype": "text/x-python",
   "name": "python",
   "nbconvert_exporter": "python",
   "pygments_lexer": "ipython3",
   "version": "3.8.3"
  }
 },
 "nbformat": 4,
 "nbformat_minor": 4
}
